{
  "nbformat": 4,
  "nbformat_minor": 0,
  "metadata": {
    "colab": {
      "provenance": []
    },
    "kernelspec": {
      "name": "python3",
      "display_name": "Python 3"
    },
    "language_info": {
      "name": "python"
    }
  },
  "cells": [
    {
      "cell_type": "markdown",
      "source": [
        "# Python *OOPS*\n",
        "1. What is Object-Oriented Programming (OOP)?\n",
        "   - Object-Oriented Programming (OOP) is a programming paradigm that organizes software design around objects, which are instances of classes. These objects represent real-world entities and are used to model both data and the behavior associated with that data.\n",
        "2. What is a class in OOP?\n",
        "   - In Object-Oriented Programming (OOP), a class is a blueprint or template for creating objects. It defines the structure and behavior of the objects that belong to that class.\n",
        "3. What is an object in OOP?\n",
        "   - In Object-Oriented Programming (OOP), an object is an instance of a class. It is a concrete entity that contains data (attributes) and behavior (methods) as defined by its class.\n",
        "4. What is the difference between abstraction and encapsulation?\n",
        "   - Abstraction and encapsulation are two fundamental concepts in Object-Oriented Programming (OOP). Although they are closely related and often confused, they serve different purposes and address different aspects of software design.\n",
        "5. What are dunder methods in Python?\n",
        "   - Dunder methods (short for \"double underscore methods\"), also known as magic methods or special methods, are predefined methods in Python that have double underscores (__) at the beginning and end of their names.\n",
        "6. Explain the concept of inheritance in OOP?\n",
        "   - Inheritance is a core concept in Object-Oriented Programming (OOP) that allows a class (called a child class or subclass) to derive or inherit properties and behaviors from another class (called a parent class or superclass).\n",
        "7. What is polymorphism in OOP?\n",
        "  - Polymorphism is a fundamental concept in Object-Oriented Programming (OOP) that allows objects of different classes to be treated as objects of a common super class.\n",
        "8. How is encapsulation achieved in Python?\n",
        "   - Encapsulation in Python is achieved by bundling data (attributes) and methods (functions) that operate on the data into a single unit, typically a class.\n",
        "9. What is a constructor in Python?\n",
        "   - A constructor in Python is a special method that is automatically called when an object of a class is created. Its primary purpose is to initialize the attributes of the class and set up the object's state.\n",
        "10. What are class and static methods in Python?\n",
        "    - In Python, class methods and static methods are special types of methods within a class that differ in how they operate and what they have access to.\n",
        "11. What is method overloading in Python?\n",
        "   - Method overloading in Python refers to the ability of a class to define multiple methods with the same name but with different arguments. Unlike some other programming languages.\n",
        "12. What is method overriding in OOP?\n",
        "   - Method overriding is a feature in object-oriented programming (OOP) that allows a subclass to provide a specific implementation for a method that is already defined in its superclass.\n",
        "13. What is a property decorator in Python?\n",
        "   - In Python, the @property decorator is used to define a method in a class that acts like an attribute. It allows you to encapsulate \"getter\" logic and access the method as if it were a simple attribute.\n",
        "14. Why is polymorphism important in OOP?\n",
        "   - Polymorphism is a fundamental concept in OOP that allows objects of different classes to be treated as objects of a common superclass. It enables flexibility, extensibility, and code reusability by allowing methods to behave differently depending on the object on which they are called.\n",
        "15. What is an abstract class in Python?\n",
        "   - An abstract class in Python is a class that serves as a blueprint for other classes. It cannot be instantiated directly, and it often contains one or more abstract methods.\n",
        "16. What are the advantages of OOP?\n",
        "   - Advantages of Object-Oriented Programming (OOP)\n",
        "    Object-Oriented Programming (OOP) offers a structured and modular approach to software development. It focuses on objects that encapsulate data (attributes) and behaviors (methods).\n",
        "17. What is the difference between a class variable and an instance variable?\n",
        "   - In Python, class variables and instance variables are used to store data in a class. While they may seem similar, they have key differences in scope, behavior, and usage.\n",
        "18. What is multiple inheritance in Python?\n",
        "   - Multiple inheritance in Python is a feature of object-oriented programming where a class can inherit attributes and methods from more than one parent class.\n",
        "19. Explain the purpose of ‘’__str__’ and ‘__repr__’ ‘ methods in Python?\n",
        "   - In Python, __str__ and __repr__ are special methods (or \"magic methods\") that are used to define string representations of objects. These methods allow you to control what is displayed when an object is printed or viewed.\n",
        "20. What is the significance of the ‘super()’ function in Python?\n",
        "   - The super() function in Python is used in object-oriented programming to call a method from the parent (or superclass) of a class.\n",
        "21. What is the significance of the __del__ method in Python?\n",
        "   - The __del__ method in Python is a special method, also known as a \"destructor,\" that is called when an object is about to be destroyed or garbage collected. It is used to release any resources (like file handles, database connections, etc.)\n",
        "22. What is the difference between @staticmethod and @classmethod in Python?\n",
        "   - In Python, both @staticmethod and @classmethod are decorators used to define methods that aren't bound to an instance of the class, but they have distinct differences in how they operate and are used.\n",
        "23. How does polymorphism work in Python with inheritance?\n",
        "   - Polymorphism in Python refers to the ability of different classes to respond to the same method or operation in different ways. In the context of inheritance, polymorphism occurs when a subclass provides a specific implementation of a method that is already defined in its superclass.\n",
        "24. What is method chaining in Python OOP?\n",
        "   - Method chaining in Python (or any object-oriented programming language) is a programming technique where multiple methods are called on the same object in a single statement, one after another.\n",
        "25. What is the purpose of the __call__ method in Python?\n",
        "   - The __call__ method in Python is a special method that allows an object to be \"called\" as if it were a function. By implementing the __call__ method in a class, instances of that class can be invoked directly, enabling behavior that is similar to function calls.\n",
        "   \n",
        "\n"
      ],
      "metadata": {
        "id": "NtfffJyCInnl"
      }
    },
    {
      "cell_type": "code",
      "execution_count": null,
      "metadata": {
        "id": "_cFhX7pGIaPm"
      },
      "outputs": [],
      "source": [
        "# Practical Question\n",
        "\n",
        "# 1. Create a parent class Animal with a method speak() that prints a generic message. Create a child class Dog that overrides the speak() method to print \"Bark!\".\n",
        "class Animal:\n",
        "    def speak(self):\n",
        "        print(\"This animal makes a sound.\")\n",
        "\n",
        "class Dog(Animal):\n",
        "    def speak(self):\n",
        "        print(\"Bark!\")\n"
      ]
    },
    {
      "cell_type": "code",
      "source": [
        "animal = Animal()"
      ],
      "metadata": {
        "id": "iC5zdb9AXMkX"
      },
      "execution_count": null,
      "outputs": []
    },
    {
      "cell_type": "code",
      "source": [
        "animal.speak()"
      ],
      "metadata": {
        "colab": {
          "base_uri": "https://localhost:8080/"
        },
        "id": "kIr9gko8XYNP",
        "outputId": "3cb9afcf-c9b7-47e3-8550-106401c6f01a"
      },
      "execution_count": null,
      "outputs": [
        {
          "output_type": "stream",
          "name": "stdout",
          "text": [
            "This animal makes a sound.\n"
          ]
        }
      ]
    },
    {
      "cell_type": "code",
      "source": [
        "dog = Dog()"
      ],
      "metadata": {
        "id": "GhP01yD-Xayk"
      },
      "execution_count": null,
      "outputs": []
    },
    {
      "cell_type": "code",
      "source": [
        "dog.speak()"
      ],
      "metadata": {
        "colab": {
          "base_uri": "https://localhost:8080/"
        },
        "id": "0rFOpdINXgb5",
        "outputId": "791e304f-eab4-48af-fd81-6d01898ab0a7"
      },
      "execution_count": null,
      "outputs": [
        {
          "output_type": "stream",
          "name": "stdout",
          "text": [
            "Bark!\n"
          ]
        }
      ]
    },
    {
      "cell_type": "code",
      "source": [
        "#2. Write a program to create an abstract class Shape with a method area(). Derive classes Circle and Rectangle from it and implement the area() method in both.\n",
        "from abc import ABC,abstractmethod\n",
        "\n",
        "class Shape(ABC):\n",
        "    @abstractmethod\n",
        "    def area(self):\n",
        "        pass\n",
        "\n",
        "class Circle(Shape):\n",
        "    def __init__(self, radius):\n",
        "        self.radius = radius\n",
        "\n",
        "    def area(self):\n",
        "        return 3.14159 * self.radius ** 2\n",
        "\n",
        "class Rectangle(Shape):\n",
        "    def __init__(self, width, height):\n",
        "        self.width = width\n",
        "        self.height = height\n",
        "\n",
        "    def area(self):\n",
        "        return self.width * self.height\n",
        "\n"
      ],
      "metadata": {
        "id": "EliwYfEjXjXp"
      },
      "execution_count": null,
      "outputs": []
    },
    {
      "cell_type": "code",
      "source": [
        "shape = Circle(5)"
      ],
      "metadata": {
        "id": "JnHUyY7nZMe3"
      },
      "execution_count": null,
      "outputs": []
    },
    {
      "cell_type": "code",
      "source": [
        "shape.radius"
      ],
      "metadata": {
        "colab": {
          "base_uri": "https://localhost:8080/"
        },
        "id": "xgZKJFrdZmxN",
        "outputId": "e2e9ba29-f630-4044-f3cd-7e016e00a56d"
      },
      "execution_count": null,
      "outputs": [
        {
          "output_type": "execute_result",
          "data": {
            "text/plain": [
              "5"
            ]
          },
          "metadata": {},
          "execution_count": 18
        }
      ]
    },
    {
      "cell_type": "code",
      "source": [
        "shape.area()"
      ],
      "metadata": {
        "colab": {
          "base_uri": "https://localhost:8080/"
        },
        "id": "bTmr0XQtZ-8C",
        "outputId": "a85e674f-5a2f-442a-906b-65159a998cf4"
      },
      "execution_count": null,
      "outputs": [
        {
          "output_type": "execute_result",
          "data": {
            "text/plain": [
              "78.53975"
            ]
          },
          "metadata": {},
          "execution_count": 20
        }
      ]
    },
    {
      "cell_type": "code",
      "source": [
        "shape = Rectangle(10,8)"
      ],
      "metadata": {
        "id": "vA0sYiPwaAlv"
      },
      "execution_count": null,
      "outputs": []
    },
    {
      "cell_type": "code",
      "source": [
        "shape.area()"
      ],
      "metadata": {
        "colab": {
          "base_uri": "https://localhost:8080/"
        },
        "id": "1Ym9aHw-aTUU",
        "outputId": "71c80bb9-8ad9-4e07-a54a-1033678c04f2"
      },
      "execution_count": null,
      "outputs": [
        {
          "output_type": "execute_result",
          "data": {
            "text/plain": [
              "80"
            ]
          },
          "metadata": {},
          "execution_count": 22
        }
      ]
    },
    {
      "cell_type": "code",
      "source": [
        "shape.height"
      ],
      "metadata": {
        "colab": {
          "base_uri": "https://localhost:8080/"
        },
        "id": "LBTXhdVAaY3X",
        "outputId": "44b4d793-af28-4dd4-cf4b-8308259a38b5"
      },
      "execution_count": null,
      "outputs": [
        {
          "output_type": "execute_result",
          "data": {
            "text/plain": [
              "8"
            ]
          },
          "metadata": {},
          "execution_count": 23
        }
      ]
    },
    {
      "cell_type": "code",
      "source": [
        "shape.width\n"
      ],
      "metadata": {
        "colab": {
          "base_uri": "https://localhost:8080/"
        },
        "id": "cq6uoraAaasc",
        "outputId": "32b4d803-6279-4ce6-d281-579cf9ffcca7"
      },
      "execution_count": null,
      "outputs": [
        {
          "output_type": "execute_result",
          "data": {
            "text/plain": [
              "10"
            ]
          },
          "metadata": {},
          "execution_count": 24
        }
      ]
    },
    {
      "cell_type": "code",
      "source": [
        "#3. Implement a multi-level inheritance scenario where a class Vehicle has an attribute type. Derive a class Car and further derive a class ElectricCar that adds a battery attribute.\n",
        "class Vehicle:\n",
        "    def __init__(self, vehicle_type):\n",
        "        self.vehicle_type = vehicle_type\n",
        "\n",
        "class Car(Vehicle):\n",
        "    def __init__(self, vehicle_type, brand):\n",
        "        super().__init__(vehicle_type)\n",
        "        self.brand = brand\n",
        "\n",
        "class ElectricCar(Car):\n",
        "    def __init__(self, vehicle_type, brand, battery_capacity):\n",
        "        super().__init__(vehicle_type, brand)\n",
        "        self.battery_capacity = battery_capacity"
      ],
      "metadata": {
        "id": "IwWdqSlMadCY"
      },
      "execution_count": null,
      "outputs": []
    },
    {
      "cell_type": "code",
      "source": [
        "vehicle = Vehicle(\"Car\")"
      ],
      "metadata": {
        "id": "bIzMpZFBbdtE"
      },
      "execution_count": null,
      "outputs": []
    },
    {
      "cell_type": "code",
      "source": [
        "vehicle.vehicle_type"
      ],
      "metadata": {
        "colab": {
          "base_uri": "https://localhost:8080/",
          "height": 35
        },
        "id": "bJg2Ps2dbjzu",
        "outputId": "4cc3371e-4309-4cba-8455-8beb7ed80a8d"
      },
      "execution_count": null,
      "outputs": [
        {
          "output_type": "execute_result",
          "data": {
            "text/plain": [
              "'Car'"
            ],
            "application/vnd.google.colaboratory.intrinsic+json": {
              "type": "string"
            }
          },
          "metadata": {},
          "execution_count": 27
        }
      ]
    },
    {
      "cell_type": "code",
      "source": [
        "car = Car(\"car\",\"toyota\")"
      ],
      "metadata": {
        "id": "7Lt4bFqcbnTo"
      },
      "execution_count": null,
      "outputs": []
    },
    {
      "cell_type": "code",
      "source": [
        "car.vehicle_type"
      ],
      "metadata": {
        "colab": {
          "base_uri": "https://localhost:8080/",
          "height": 35
        },
        "id": "UNFJm-L5bvsg",
        "outputId": "f8be28c7-0101-4434-f611-6c1702b08e16"
      },
      "execution_count": null,
      "outputs": [
        {
          "output_type": "execute_result",
          "data": {
            "text/plain": [
              "'car'"
            ],
            "application/vnd.google.colaboratory.intrinsic+json": {
              "type": "string"
            }
          },
          "metadata": {},
          "execution_count": 29
        }
      ]
    },
    {
      "cell_type": "code",
      "source": [
        "car.brand"
      ],
      "metadata": {
        "colab": {
          "base_uri": "https://localhost:8080/",
          "height": 35
        },
        "id": "DLATS7PHb0BO",
        "outputId": "d4ebc21f-1e8c-4341-84da-906490a39cd2"
      },
      "execution_count": null,
      "outputs": [
        {
          "output_type": "execute_result",
          "data": {
            "text/plain": [
              "'toyota'"
            ],
            "application/vnd.google.colaboratory.intrinsic+json": {
              "type": "string"
            }
          },
          "metadata": {},
          "execution_count": 30
        }
      ]
    },
    {
      "cell_type": "code",
      "source": [
        "electric_car = ElectricCar(\"Electric Car\", \"Tesla\", \"100 kWh\")"
      ],
      "metadata": {
        "id": "eYeciJDPb4f_"
      },
      "execution_count": null,
      "outputs": []
    },
    {
      "cell_type": "code",
      "source": [
        "electric_car.vehicle_type"
      ],
      "metadata": {
        "colab": {
          "base_uri": "https://localhost:8080/",
          "height": 35
        },
        "id": "BkH9dwNdb-rp",
        "outputId": "96c7ed6e-c468-42a7-a106-fdb1a5c7cb3f"
      },
      "execution_count": null,
      "outputs": [
        {
          "output_type": "execute_result",
          "data": {
            "text/plain": [
              "'Electric Car'"
            ],
            "application/vnd.google.colaboratory.intrinsic+json": {
              "type": "string"
            }
          },
          "metadata": {},
          "execution_count": 33
        }
      ]
    },
    {
      "cell_type": "code",
      "source": [
        "electric_car.brand"
      ],
      "metadata": {
        "colab": {
          "base_uri": "https://localhost:8080/",
          "height": 35
        },
        "id": "MNEKZlZkcCf8",
        "outputId": "bdad36b3-66af-4f2a-937a-89df4c1194b9"
      },
      "execution_count": null,
      "outputs": [
        {
          "output_type": "execute_result",
          "data": {
            "text/plain": [
              "'Tesla'"
            ],
            "application/vnd.google.colaboratory.intrinsic+json": {
              "type": "string"
            }
          },
          "metadata": {},
          "execution_count": 34
        }
      ]
    },
    {
      "cell_type": "code",
      "source": [
        "electric_car.battery_capacity"
      ],
      "metadata": {
        "colab": {
          "base_uri": "https://localhost:8080/",
          "height": 35
        },
        "id": "V9PYZK_CcKMF",
        "outputId": "523e3eaf-a798-4e0f-a8fc-fca46c4454d6"
      },
      "execution_count": null,
      "outputs": [
        {
          "output_type": "execute_result",
          "data": {
            "text/plain": [
              "'100 kWh'"
            ],
            "application/vnd.google.colaboratory.intrinsic+json": {
              "type": "string"
            }
          },
          "metadata": {},
          "execution_count": 35
        }
      ]
    },
    {
      "cell_type": "code",
      "source": [
        "# 4. Implement a multi-level inheritance scenario where a class Vehicle has an attribute type. Derive a class Car and further derive a class ElectricCar that adds a battery attribute.\n",
        "# same question as above\n"
      ],
      "metadata": {
        "id": "5cb3RC9PcOfX"
      },
      "execution_count": null,
      "outputs": []
    },
    {
      "cell_type": "code",
      "source": [
        "#5. Write a program to demonstrate encapsulation by creating a class BankAccount with private attributes balance and methods to deposit, withdraw, and check balance.\n",
        "class BankAccount:\n",
        "    def __init__(self, initial_balance=0):\n",
        "        self.__balance = initial_balance\n",
        "\n",
        "    def deposit(self, amount):\n",
        "        if amount > 0:\n",
        "            self.__balance += amount\n",
        "            print(f\"Deposited: {amount}\")\n",
        "        else:\n",
        "            print(\"Deposit amount must be positive.\")\n",
        "\n",
        "    def withdraw(self, amount):\n",
        "        if 0 < amount <= self.__balance:\n",
        "            self.__balance -= amount\n",
        "            print(f\"Withdrew: {amount}\")\n",
        "        else:\n",
        "            print(\"Invalid withdrawal amount.\")\n",
        "\n",
        "    def check_balance(self):\n",
        "        print(f\"Current Balance: {self.__balance}\")"
      ],
      "metadata": {
        "id": "HV125PFlclTY"
      },
      "execution_count": null,
      "outputs": []
    },
    {
      "cell_type": "code",
      "source": [
        "bank = BankAccount(5000)"
      ],
      "metadata": {
        "id": "F5H_TNeCdJww"
      },
      "execution_count": null,
      "outputs": []
    },
    {
      "cell_type": "code",
      "source": [
        "bank.check_balance()"
      ],
      "metadata": {
        "colab": {
          "base_uri": "https://localhost:8080/"
        },
        "id": "1CISEryBdQII",
        "outputId": "1437c2cb-99f1-4855-92c6-e7b9066d3cf4"
      },
      "execution_count": null,
      "outputs": [
        {
          "output_type": "stream",
          "name": "stdout",
          "text": [
            "Current Balance: 5000\n"
          ]
        }
      ]
    },
    {
      "cell_type": "code",
      "source": [
        "bank.deposit(1000)"
      ],
      "metadata": {
        "colab": {
          "base_uri": "https://localhost:8080/"
        },
        "id": "q5WWNQqAdY5O",
        "outputId": "5b6045a4-5bd3-4f9e-d16b-9295dd0892f2"
      },
      "execution_count": null,
      "outputs": [
        {
          "output_type": "stream",
          "name": "stdout",
          "text": [
            "Deposited: 1000\n"
          ]
        }
      ]
    },
    {
      "cell_type": "code",
      "source": [
        "bank.check_balance()"
      ],
      "metadata": {
        "colab": {
          "base_uri": "https://localhost:8080/"
        },
        "id": "7iKRwY98dxlv",
        "outputId": "be0ada3a-0b3c-4284-a3cc-dc5ee7d9ba66"
      },
      "execution_count": null,
      "outputs": [
        {
          "output_type": "stream",
          "name": "stdout",
          "text": [
            "Current Balance: 6000\n"
          ]
        }
      ]
    },
    {
      "cell_type": "code",
      "source": [
        "bank.withdraw(2000)"
      ],
      "metadata": {
        "colab": {
          "base_uri": "https://localhost:8080/"
        },
        "id": "b_PrdLuld38L",
        "outputId": "51387cd6-259a-4cf0-9d0d-911463827b40"
      },
      "execution_count": null,
      "outputs": [
        {
          "output_type": "stream",
          "name": "stdout",
          "text": [
            "Withdrew: 2000\n"
          ]
        }
      ]
    },
    {
      "cell_type": "code",
      "source": [
        "bank.check_balance()"
      ],
      "metadata": {
        "colab": {
          "base_uri": "https://localhost:8080/"
        },
        "id": "uFgQU8gdd_DJ",
        "outputId": "ae1e7917-90b7-4674-991c-7752fd71f9aa"
      },
      "execution_count": null,
      "outputs": [
        {
          "output_type": "stream",
          "name": "stdout",
          "text": [
            "Current Balance: 4000\n"
          ]
        }
      ]
    },
    {
      "cell_type": "code",
      "source": [
        "# 6. Demonstrate runtime polymorphism using a method play() in a base class Instrument. Derive classes Guitar and Piano that implement their own version of play().\n",
        "class Instrument:\n",
        "    def play(self):\n",
        "        print(\"Playing an instrument.\")\n",
        "\n",
        "class Guitar(Instrument):\n",
        "    def play(self):\n",
        "        print(\"Strumming the guitar.\")\n",
        "\n",
        "class Piano(Instrument):\n",
        "    def play(self):\n",
        "        print(\"Playing the piano.\")\n"
      ],
      "metadata": {
        "id": "HQYGst8teCG1"
      },
      "execution_count": null,
      "outputs": []
    },
    {
      "cell_type": "code",
      "source": [
        "instrument = Instrument()"
      ],
      "metadata": {
        "id": "mCeq4ObT9J36"
      },
      "execution_count": null,
      "outputs": []
    },
    {
      "cell_type": "code",
      "source": [
        "instrument.play()"
      ],
      "metadata": {
        "colab": {
          "base_uri": "https://localhost:8080/"
        },
        "id": "xbG2WKPT9xfR",
        "outputId": "b2026e36-20b3-4cd4-fe76-05234810b21e"
      },
      "execution_count": null,
      "outputs": [
        {
          "output_type": "stream",
          "name": "stdout",
          "text": [
            "Playing an instrument.\n"
          ]
        }
      ]
    },
    {
      "cell_type": "code",
      "source": [
        "instrument1 = Guitar()"
      ],
      "metadata": {
        "id": "IhsCZS1Y9z7w"
      },
      "execution_count": null,
      "outputs": []
    },
    {
      "cell_type": "code",
      "source": [
        "instrument1.play()"
      ],
      "metadata": {
        "colab": {
          "base_uri": "https://localhost:8080/"
        },
        "id": "ffJ3fB8I99Tn",
        "outputId": "28439c76-8ba7-4686-97f9-d4f2915d6943"
      },
      "execution_count": null,
      "outputs": [
        {
          "output_type": "stream",
          "name": "stdout",
          "text": [
            "Strumming the guitar.\n"
          ]
        }
      ]
    },
    {
      "cell_type": "code",
      "source": [
        "instrument2 = Piano()"
      ],
      "metadata": {
        "id": "ryeBJ22Y-RFC"
      },
      "execution_count": null,
      "outputs": []
    },
    {
      "cell_type": "code",
      "source": [
        "instrument2.play()"
      ],
      "metadata": {
        "colab": {
          "base_uri": "https://localhost:8080/"
        },
        "id": "jYqsDyHa-jc5",
        "outputId": "f13009ea-61d9-4acd-9438-a50e1d7f683a"
      },
      "execution_count": null,
      "outputs": [
        {
          "output_type": "stream",
          "name": "stdout",
          "text": [
            "Playing the piano.\n"
          ]
        }
      ]
    },
    {
      "cell_type": "code",
      "source": [
        "# 7.  Create a class MathOperations with a class method add_numbers() to add two numbers and a static method subtract_numbers() to subtract two numbers\n",
        "class MathOperations:\n",
        "    @classmethod\n",
        "    def add_numbers(cls, a, b):\n",
        "        return a + b\n",
        "\n",
        "    @staticmethod\n",
        "    def subtract_numbers(a, b):\n",
        "        return a - b"
      ],
      "metadata": {
        "id": "AA2Z5ZoY-o9q"
      },
      "execution_count": null,
      "outputs": []
    },
    {
      "cell_type": "code",
      "source": [
        "math = MathOperations()"
      ],
      "metadata": {
        "id": "wjq8iIYY_PQ-"
      },
      "execution_count": null,
      "outputs": []
    },
    {
      "cell_type": "code",
      "source": [
        "math.add_numbers(5,6)"
      ],
      "metadata": {
        "colab": {
          "base_uri": "https://localhost:8080/"
        },
        "id": "McL7lAiO_T2_",
        "outputId": "381eeef9-42dd-4ef8-e61a-e8eb322badfd"
      },
      "execution_count": null,
      "outputs": [
        {
          "output_type": "execute_result",
          "data": {
            "text/plain": [
              "11"
            ]
          },
          "metadata": {},
          "execution_count": 16
        }
      ]
    },
    {
      "cell_type": "code",
      "source": [
        "math.subtract_numbers(5,6)"
      ],
      "metadata": {
        "colab": {
          "base_uri": "https://localhost:8080/"
        },
        "id": "kA-gfdif_ZGM",
        "outputId": "21e5f4b9-ae73-4b38-dab9-9b7f1d53d7bd"
      },
      "execution_count": null,
      "outputs": [
        {
          "output_type": "execute_result",
          "data": {
            "text/plain": [
              "-1"
            ]
          },
          "metadata": {},
          "execution_count": 17
        }
      ]
    },
    {
      "cell_type": "code",
      "source": [
        "# 8. Implement a class Person with a class method to count the total number of persons created.\n",
        "class Person:\n",
        "    _count = 0\n",
        "\n",
        "    def __init__(self, name):\n",
        "        self.name = name\n",
        "        Person._count += 1\n",
        "\n",
        "    @classmethod\n",
        "    def total_persons(cls):\n",
        "        return cls._count\n"
      ],
      "metadata": {
        "id": "CAd61j3-_ibq"
      },
      "execution_count": null,
      "outputs": []
    },
    {
      "cell_type": "code",
      "source": [
        "person = Person(\"rohi\")\n",
        "person1 = Person(\"rohit\")"
      ],
      "metadata": {
        "id": "jNAHR9ehATsC"
      },
      "execution_count": null,
      "outputs": []
    },
    {
      "cell_type": "code",
      "source": [
        "person.total_persons()"
      ],
      "metadata": {
        "colab": {
          "base_uri": "https://localhost:8080/"
        },
        "id": "4h8WdoMGAaAt",
        "outputId": "e348fcef-454c-4beb-fbb8-e57a9a7ecb0d"
      },
      "execution_count": null,
      "outputs": [
        {
          "output_type": "execute_result",
          "data": {
            "text/plain": [
              "8"
            ]
          },
          "metadata": {},
          "execution_count": 41
        }
      ]
    },
    {
      "cell_type": "code",
      "source": [
        " # 9. Write a class Fraction with attributes numerator and denominator. Override the str method to display the fraction as \"numerator/denominator\".\n",
        " class Fraction:\n",
        "    def __init__(self, numerator, denominator):\n",
        "        self.numerator = numerator\n",
        "        self.denominator = denominator\n",
        "\n",
        "    def __str__(self):\n",
        "        return f\"{self.numerator}/{self.denominator}\""
      ],
      "metadata": {
        "id": "P2ocEW_iApSg"
      },
      "execution_count": null,
      "outputs": []
    },
    {
      "cell_type": "code",
      "source": [
        "class1 = Fraction(5,8)"
      ],
      "metadata": {
        "id": "5JzjTVVOAvSz"
      },
      "execution_count": null,
      "outputs": []
    },
    {
      "cell_type": "code",
      "source": [
        "class1.numerator"
      ],
      "metadata": {
        "colab": {
          "base_uri": "https://localhost:8080/"
        },
        "id": "VfoBkxgJA7nE",
        "outputId": "5ab6ef33-d2e4-42ec-afce-260dbd05786c"
      },
      "execution_count": null,
      "outputs": [
        {
          "output_type": "execute_result",
          "data": {
            "text/plain": [
              "5"
            ]
          },
          "metadata": {},
          "execution_count": 46
        }
      ]
    },
    {
      "cell_type": "code",
      "source": [
        "class1.denominator"
      ],
      "metadata": {
        "colab": {
          "base_uri": "https://localhost:8080/"
        },
        "id": "9kUuE3ktBJtx",
        "outputId": "ef77fdca-3d1d-4f5f-8217-6eb9b82df552"
      },
      "execution_count": null,
      "outputs": [
        {
          "output_type": "execute_result",
          "data": {
            "text/plain": [
              "8"
            ]
          },
          "metadata": {},
          "execution_count": 47
        }
      ]
    },
    {
      "cell_type": "code",
      "source": [
        "# 10. Demonstrate operator overloading by creating a class Vector and overriding the add method to add two vectors.\n",
        "class Vector:\n",
        "    def __init__(self, x, y):\n",
        "        self.x = x\n",
        "        self.y = y\n",
        "\n",
        "    def __add__(self, other):\n",
        "        if isinstance(other, Vector):\n",
        "            return Vector(self.x + other.x, self.y + other.y)\n",
        "        raise TypeError(\"Unsupported type for addition\")\n",
        "\n",
        "    def __str__(self):\n",
        "        return f\"Vector({self.x}, {self.y})\"\n",
        "\n"
      ],
      "metadata": {
        "id": "KObDPMfnDt4A"
      },
      "execution_count": null,
      "outputs": []
    },
    {
      "cell_type": "code",
      "source": [
        "vector = Vector(3,3)"
      ],
      "metadata": {
        "id": "wLSY-Lv6El87"
      },
      "execution_count": null,
      "outputs": []
    },
    {
      "cell_type": "code",
      "source": [
        "vector.x"
      ],
      "metadata": {
        "colab": {
          "base_uri": "https://localhost:8080/"
        },
        "id": "6qXbUuyZErf4",
        "outputId": "7a6ecf57-7a5d-4c9a-ce04-96fe5c972de2"
      },
      "execution_count": null,
      "outputs": [
        {
          "output_type": "execute_result",
          "data": {
            "text/plain": [
              "3"
            ]
          },
          "metadata": {},
          "execution_count": 51
        }
      ]
    },
    {
      "cell_type": "code",
      "source": [
        "vector1 = Vector(5,5)\n",
        "vector2 = Vector(5,6)\n",
        "vector3 = vector1 + vector2"
      ],
      "metadata": {
        "id": "y4MKNa7MEze7"
      },
      "execution_count": null,
      "outputs": []
    },
    {
      "cell_type": "code",
      "source": [
        "print(vector3)"
      ],
      "metadata": {
        "colab": {
          "base_uri": "https://localhost:8080/"
        },
        "id": "qVo2u62sFHzx",
        "outputId": "fa06d2a9-2557-44bf-c5b1-1ad74d153f07"
      },
      "execution_count": null,
      "outputs": [
        {
          "output_type": "stream",
          "name": "stdout",
          "text": [
            "Vector(10, 11)\n"
          ]
        }
      ]
    },
    {
      "cell_type": "code",
      "source": [
        "#11. Create a class Person with attributes name and age. Add a method greet() that prints \"Hello, my name is {name} and I am {age} years old.\n",
        "class Person:\n",
        "    def __init__(self, name, age):\n",
        "        self.name = name\n",
        "        self.age = age\n",
        "\n",
        "    def greet(self):\n",
        "        print(f\"Hello, my name is {self.name} and I am {self.age} years old.\")\n"
      ],
      "metadata": {
        "id": "kX3A0oKEFUwb"
      },
      "execution_count": null,
      "outputs": []
    },
    {
      "cell_type": "code",
      "source": [
        "person = Person(\"rohit\",25)"
      ],
      "metadata": {
        "id": "btMtbXGfQJO2"
      },
      "execution_count": null,
      "outputs": []
    },
    {
      "cell_type": "code",
      "source": [
        "person.greet()"
      ],
      "metadata": {
        "colab": {
          "base_uri": "https://localhost:8080/"
        },
        "id": "-wP-jM3-QicF",
        "outputId": "ad007366-f1a5-4597-872b-c4114224643d"
      },
      "execution_count": null,
      "outputs": [
        {
          "output_type": "stream",
          "name": "stdout",
          "text": [
            "Hello, my name is rohit and I am 25 years old.\n"
          ]
        }
      ]
    },
    {
      "cell_type": "code",
      "source": [
        "# 12. Implement a class Student with attributes name and grades. Create a method average_grade() to compute the average of the grades.\n",
        "class Student:\n",
        "    def __init__(self, name, grades):\n",
        "        self.name = name\n",
        "        self.grades = grades\n",
        "\n",
        "    def average_grade(self):\n",
        "        if self.grades:\n",
        "            return sum(self.grades) / len(self.grades)\n",
        "        return 0.0\n"
      ],
      "metadata": {
        "id": "Il3Os8yFQXab"
      },
      "execution_count": null,
      "outputs": []
    },
    {
      "cell_type": "code",
      "source": [
        "student = Student(\"rohit\",[55,89,87,90])\n",
        "print(f\"{student.name}'s average grade: {student.average_grade()}\")"
      ],
      "metadata": {
        "colab": {
          "base_uri": "https://localhost:8080/"
        },
        "id": "ZGOj2oD_Qa8R",
        "outputId": "6a1f4609-4e7d-4662-91a9-d8bb79c5692d"
      },
      "execution_count": null,
      "outputs": [
        {
          "output_type": "stream",
          "name": "stdout",
          "text": [
            "rohit's average grade: 80.25\n"
          ]
        }
      ]
    },
    {
      "cell_type": "code",
      "source": [
        "# 13.Create a class Rectangle with methods set_dimensions() to set the dimensions and area() to calculate the area.\n",
        "class Rectangle:\n",
        "    def __init__(self):\n",
        "        self.length = 0\n",
        "        self.width = 0\n",
        "\n",
        "    def set_dimensions(self, length, width):\n",
        "        self.length = length\n",
        "        self.width = width\n",
        "\n",
        "    def area(self):\n",
        "        return self.length * self.width\n"
      ],
      "metadata": {
        "id": "TceDhHS5R7h8"
      },
      "execution_count": null,
      "outputs": []
    },
    {
      "cell_type": "code",
      "source": [
        "rectangle = Rectangle()\n",
        "rectangle.set_dimensions(5, 3)"
      ],
      "metadata": {
        "id": "89ssKVnwTdQb"
      },
      "execution_count": null,
      "outputs": []
    },
    {
      "cell_type": "code",
      "source": [
        "print(f\"the rectangle area is:{rectangle.area()}\")"
      ],
      "metadata": {
        "colab": {
          "base_uri": "https://localhost:8080/"
        },
        "id": "rD7y8Lc1_N9K",
        "outputId": "e4bae351-6a3d-49e0-ae37-6c3a33b8b292"
      },
      "execution_count": 20,
      "outputs": [
        {
          "output_type": "stream",
          "name": "stdout",
          "text": [
            "the rectangle area is:15\n"
          ]
        }
      ]
    },
    {
      "cell_type": "code",
      "source": [
        "# 14. Create a class Employee with a method calculate_salary() that computes the salary based on hours worked and hourly rate. Create a derived class Manager that adds a bonus to the salary.\n",
        "class Employee:\n",
        "    def __init__(self, name, hourly_rate):\n",
        "        self.name = name\n",
        "        self.hourly_rate = hourly_rate\n",
        "\n",
        "    def calculate_salary(self, hours_worked):\n",
        "        return hours_worked * self.hourly_rate\n",
        "\n",
        "\n",
        "class Manager(Employee):\n",
        "    def __init__(self, name, hourly_rate, bonus):\n",
        "        super().__init__(name, hourly_rate)\n",
        "        self.bonus = bonus\n",
        "\n",
        "    def calculate_salary(self, hours_worked):\n",
        "        base_salary = super().calculate_salary(hours_worked)\n",
        "        return base_salary + self.bonus"
      ],
      "metadata": {
        "id": "6iVmB4dT_Vg8"
      },
      "execution_count": 21,
      "outputs": []
    },
    {
      "cell_type": "code",
      "source": [
        "employee = Employee(\"rohit\", 20)\n",
        "print(f\"{employee.name}'s salary: {employee.calculate_salary(40):}\")"
      ],
      "metadata": {
        "colab": {
          "base_uri": "https://localhost:8080/"
        },
        "id": "26Vh2SWUBxt5",
        "outputId": "324bc6aa-13d6-496c-f119-3ae79b1a2718"
      },
      "execution_count": 30,
      "outputs": [
        {
          "output_type": "stream",
          "name": "stdout",
          "text": [
            "rohit's salary: 800\n"
          ]
        }
      ]
    },
    {
      "cell_type": "code",
      "source": [
        "manager = Manager(\"singh\", 30, 500)\n",
        "print(f\"{manager.name}'s salary: {manager.calculate_salary(40):}\")"
      ],
      "metadata": {
        "colab": {
          "base_uri": "https://localhost:8080/"
        },
        "id": "QjQarFPOCIOI",
        "outputId": "3932ae97-27ce-40bc-984b-f022f99d0c9a"
      },
      "execution_count": 31,
      "outputs": [
        {
          "output_type": "stream",
          "name": "stdout",
          "text": [
            "singh's salary: 1700\n"
          ]
        }
      ]
    },
    {
      "cell_type": "code",
      "source": [
        "# 15. Create a class Product with attributes name, price, and quantity. Implement a method total_price() that calculates the total price of the product.\n",
        "class Product:\n",
        "    def __init__(self, name, price, quantity):\n",
        "        self.name = name\n",
        "        self.price = price\n",
        "        self.quantity = quantity\n",
        "\n",
        "    def total_price(self):\n",
        "        return self.price * self.quantity"
      ],
      "metadata": {
        "id": "2gecoVTwCTDv"
      },
      "execution_count": 26,
      "outputs": []
    },
    {
      "cell_type": "code",
      "source": [
        "product = Product(\"computer\" , 30000, 2)"
      ],
      "metadata": {
        "id": "GBsxth-CDA6E"
      },
      "execution_count": 28,
      "outputs": []
    },
    {
      "cell_type": "code",
      "source": [
        "product.total_price()"
      ],
      "metadata": {
        "colab": {
          "base_uri": "https://localhost:8080/"
        },
        "id": "6509Q1jCDIco",
        "outputId": "fddee283-7892-4ec3-df92-f0465e9829e8"
      },
      "execution_count": 29,
      "outputs": [
        {
          "output_type": "execute_result",
          "data": {
            "text/plain": [
              "60000"
            ]
          },
          "metadata": {},
          "execution_count": 29
        }
      ]
    },
    {
      "cell_type": "code",
      "source": [
        "# 16. Create a class Animal with an abstract method sound(). Create two derived classes Cow and Sheep that implement the sound() method.\n",
        "from abc import ABC, abstractmethod\n",
        "\n",
        "class Animal(ABC):\n",
        "    @abstractmethod\n",
        "    def sound(self):\n",
        "        pass\n",
        "\n",
        "\n",
        "class Cow(Animal):\n",
        "    def sound(self):\n",
        "        return \"Moo\"\n",
        "\n",
        "\n",
        "class Sheep(Animal):\n",
        "    def sound(self):\n",
        "        return \"Baa\""
      ],
      "metadata": {
        "id": "V2euyEXrDOf2"
      },
      "execution_count": 32,
      "outputs": []
    },
    {
      "cell_type": "code",
      "source": [
        "animal = Cow()"
      ],
      "metadata": {
        "id": "UzZRXjBYD1rf"
      },
      "execution_count": 34,
      "outputs": []
    },
    {
      "cell_type": "code",
      "source": [
        "animal.sound()"
      ],
      "metadata": {
        "colab": {
          "base_uri": "https://localhost:8080/",
          "height": 35
        },
        "id": "KUGgchXND5mV",
        "outputId": "6bf9946c-9cd6-47f0-8d5f-fecec8afdf70"
      },
      "execution_count": 36,
      "outputs": [
        {
          "output_type": "execute_result",
          "data": {
            "text/plain": [
              "'Moo'"
            ],
            "application/vnd.google.colaboratory.intrinsic+json": {
              "type": "string"
            }
          },
          "metadata": {},
          "execution_count": 36
        }
      ]
    },
    {
      "cell_type": "code",
      "source": [
        "animal=Sheep()"
      ],
      "metadata": {
        "id": "NRfm4jeVEHoC"
      },
      "execution_count": 38,
      "outputs": []
    },
    {
      "cell_type": "code",
      "source": [
        "animal.sound()"
      ],
      "metadata": {
        "colab": {
          "base_uri": "https://localhost:8080/",
          "height": 35
        },
        "id": "MYZmo3taEO5T",
        "outputId": "2a9e13db-dcc2-4a7c-c56f-5f313c571c47"
      },
      "execution_count": 40,
      "outputs": [
        {
          "output_type": "execute_result",
          "data": {
            "text/plain": [
              "'Baa'"
            ],
            "application/vnd.google.colaboratory.intrinsic+json": {
              "type": "string"
            }
          },
          "metadata": {},
          "execution_count": 40
        }
      ]
    },
    {
      "cell_type": "code",
      "source": [
        "# 17.  Create a class Book with attributes title, author, and year_published. Add a method get_book_info() that returns a formatted string with the book's details.\n",
        "class Book:\n",
        "    def __init__(self, title, author, year_published):\n",
        "        self.title = title\n",
        "        self.author = author\n",
        "        self.year_published = year_published\n",
        "\n",
        "    def get_book_info(self):\n",
        "        return f\"'{self.title}' by {self.author}, published in {self.year_published}.\"\n",
        "\n",
        "\n",
        "\n"
      ],
      "metadata": {
        "id": "pxFuOPKNEUV8"
      },
      "execution_count": 41,
      "outputs": []
    },
    {
      "cell_type": "code",
      "source": [
        "book = Book(\"golmohar\",\" Rohit\",2024)"
      ],
      "metadata": {
        "id": "EMS8B5JME4FV"
      },
      "execution_count": 45,
      "outputs": []
    },
    {
      "cell_type": "code",
      "source": [
        "book.get_book_info()"
      ],
      "metadata": {
        "colab": {
          "base_uri": "https://localhost:8080/",
          "height": 35
        },
        "id": "CKl2KZ9hE7MZ",
        "outputId": "4680adf7-0b77-4bdc-e17b-4ea639cfcbd5"
      },
      "execution_count": 46,
      "outputs": [
        {
          "output_type": "execute_result",
          "data": {
            "text/plain": [
              "\"'golmohar' by  Rohit, published in 2024.\""
            ],
            "application/vnd.google.colaboratory.intrinsic+json": {
              "type": "string"
            }
          },
          "metadata": {},
          "execution_count": 46
        }
      ]
    },
    {
      "cell_type": "code",
      "source": [
        "#18. Create a class House with attributes address and price. Create a derived class Mansion that adds an attribute number_of_rooms.\n",
        "class House:\n",
        "    def __init__(self, address, price):\n",
        "        self.address = address\n",
        "        self.price = price\n",
        "\n",
        "    def get_info(self):\n",
        "        return f\"Address: {self.address}, Price: ₹{self.price:,}\"\n",
        "\n",
        "\n",
        "class Mansion(House):\n",
        "    def __init__(self, address, price, number_of_rooms):\n",
        "        super().__init__(address, price)\n",
        "        self.number_of_rooms = number_of_rooms\n",
        "\n",
        "    def get_info(self):\n",
        "        base_info = super().get_info()\n",
        "        return f\"{base_info}, Number of Rooms: {self.number_of_rooms}\""
      ],
      "metadata": {
        "id": "HlXOW4NuFNkN"
      },
      "execution_count": 47,
      "outputs": []
    },
    {
      "cell_type": "code",
      "source": [
        "house = House(\"123 Maple Street\", 250000)"
      ],
      "metadata": {
        "id": "GS1bvTfdGwPc"
      },
      "execution_count": 48,
      "outputs": []
    },
    {
      "cell_type": "code",
      "source": [
        "house.get_info()"
      ],
      "metadata": {
        "colab": {
          "base_uri": "https://localhost:8080/",
          "height": 35
        },
        "id": "XS4SQuSRG1T7",
        "outputId": "76331454-c17c-4160-ad9a-43fbdec9b44a"
      },
      "execution_count": 49,
      "outputs": [
        {
          "output_type": "execute_result",
          "data": {
            "text/plain": [
              "'Address: 123 Maple Street, Price: ₹250,000'"
            ],
            "application/vnd.google.colaboratory.intrinsic+json": {
              "type": "string"
            }
          },
          "metadata": {},
          "execution_count": 49
        }
      ]
    },
    {
      "cell_type": "code",
      "source": [
        "house = Mansion(\"123 Maple Street\", 2500000, 8)"
      ],
      "metadata": {
        "id": "zno7jx-pG5Vc"
      },
      "execution_count": 50,
      "outputs": []
    },
    {
      "cell_type": "code",
      "source": [
        "house.get_info()"
      ],
      "metadata": {
        "colab": {
          "base_uri": "https://localhost:8080/",
          "height": 35
        },
        "id": "2vwNWf2SHB6G",
        "outputId": "6e48494d-50ac-4fbd-a5d1-4b8f5a544ccb"
      },
      "execution_count": 51,
      "outputs": [
        {
          "output_type": "execute_result",
          "data": {
            "text/plain": [
              "'Address: 123 Maple Street, Price: ₹2,500,000, Number of Rooms: 8'"
            ],
            "application/vnd.google.colaboratory.intrinsic+json": {
              "type": "string"
            }
          },
          "metadata": {},
          "execution_count": 51
        }
      ]
    },
    {
      "cell_type": "code",
      "source": [],
      "metadata": {
        "id": "NI60OIlRHEba"
      },
      "execution_count": null,
      "outputs": []
    }
  ]
}